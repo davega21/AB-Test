{
 "cells": [
  {
   "cell_type": "code",
   "execution_count": 11,
   "id": "64bb0b7e",
   "metadata": {},
   "outputs": [
    {
     "name": "stdout",
     "output_type": "stream",
     "text": [
      "Conversion Rate for Group A: 0.5159420289855072\n",
      "Conversion Rate for Group B: 0.7402234636871509\n",
      "P-value: 4.5943140031239636e-10\n",
      "\n",
      "Interpretation: There is a significant difference in conversion rates between Group A and Group B.\n",
      "Group B performed better than Group A.\n"
     ]
    }
   ],
   "source": [
    "import pandas as pd\n",
    "from scipy.stats import ttest_ind\n",
    "\n",
    "# Load the dataset\n",
    "df = pd.read_csv(\"makeup.csv\")\n",
    "\n",
    "# Filter the dataframe to include only rows where 'L5_finish' is not 0 (to avoid division by zero)\n",
    "df_filtered = df[df['L5_finish'] != 0]\n",
    "\n",
    "# Calculate conversion rates for Group A and Group B\n",
    "conversion_rate_A = (df_filtered[df_filtered['student_group'] == 'A']['Quiz_finish'] / df_filtered[df_filtered['student_group'] == 'A']['L5_finish']).mean()\n",
    "conversion_rate_B = (df_filtered[df_filtered['student_group'] == 'B']['Quiz_finish'] / df_filtered[df_filtered['student_group'] == 'B']['L5_finish']).mean()\n",
    "\n",
    "# Perform independent t-test for comparing conversion rates between Group A and Group B\n",
    "t_statistic, p_value = ttest_ind(df_filtered[df_filtered['student_group'] == 'A']['Quiz_finish'] / df_filtered[df_filtered['student_group'] == 'A']['L5_finish'],\n",
    "                                  df_filtered[df_filtered['student_group'] == 'B']['Quiz_finish'] / df_filtered[df_filtered['student_group'] == 'B']['L5_finish'])\n",
    "\n",
    "# Print the conversion rates for Group A and Group B\n",
    "print(\"Conversion Rate for Group A:\", conversion_rate_A)\n",
    "print(\"Conversion Rate for Group B:\", conversion_rate_B)\n",
    "\n",
    "# Print the AB test statistical metrics\n",
    "print(\"P-value:\", p_value)\n",
    "\n",
    "# Interpret the results of the AB test\n",
    "alpha = 0.05  # significance level\n",
    "if p_value < alpha:\n",
    "    print(\"\\nInterpretation: There is a significant difference in conversion rates between Group A and Group B.\")\n",
    "    if conversion_rate_A > conversion_rate_B:\n",
    "        print(\"Group A performed better than Group B.\")\n",
    "    else:\n",
    "        print(\"Group B performed better than Group A.\")\n",
    "else:\n",
    "    print(\"\\nInterpretation: There is not enough evidence to conclude a significant difference in conversion rates between Group A and Group B.\")\n",
    "\n"
   ]
  },
  {
   "cell_type": "code",
   "execution_count": null,
   "id": "aa51a58f",
   "metadata": {},
   "outputs": [],
   "source": []
  }
 ],
 "metadata": {
  "kernelspec": {
   "display_name": "Python 3 (ipykernel)",
   "language": "python",
   "name": "python3"
  },
  "language_info": {
   "codemirror_mode": {
    "name": "ipython",
    "version": 3
   },
   "file_extension": ".py",
   "mimetype": "text/x-python",
   "name": "python",
   "nbconvert_exporter": "python",
   "pygments_lexer": "ipython3",
   "version": "3.11.5"
  }
 },
 "nbformat": 4,
 "nbformat_minor": 5
}
